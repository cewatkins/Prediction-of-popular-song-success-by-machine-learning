{
 "cells": [
  {
   "cell_type": "code",
   "execution_count": 12,
   "metadata": {
    "collapsed": true
   },
   "outputs": [],
   "source": [
    "import torch\n",
    "import torchvision\n",
    "import torchvision.datasets as dset\n",
    "import torchvision.transforms as transforms\n",
    "import matplotlib.pyplot as plt\n",
    "import numpy as np\n",
    "\n",
    "from torch.autograd import Variable\n",
    "import torch.nn as nn\n",
    "import torch.nn.functional as F\n",
    "import torch.optim as optim\n",
    "import torch.utils.data as data\n",
    "\n"
   ]
  },
  {
   "cell_type": "code",
   "execution_count": 13,
   "metadata": {
    "collapsed": true
   },
   "outputs": [],
   "source": [
    "transform = transforms.Compose([\n",
    "            transforms.Grayscale(num_output_channels=1),\n",
    "            transforms.Resize((28, 28)),\n",
    "            transforms.ToTensor(),\n",
    "            transforms.Normalize((0.5, 0.5, 0.5), (0.5, 0.5, 0.5))])"
   ]
  },
  {
   "cell_type": "code",
   "execution_count": 14,
   "metadata": {
    "collapsed": true
   },
   "outputs": [],
   "source": [
    "trainset = dset.ImageFolder(root=\"/Users/ilayda/Music/data/train_set/\",transform=transform)\n",
    "trainloader = torch.utils.data.DataLoader(trainset, batch_size=100,shuffle=True,  num_workers=1)\n",
    "\n",
    "testset = dset.ImageFolder(root='/Users/ilayda/Music/data/test_set/',transform=transform)\n",
    "testloader = torch.utils.data.DataLoader(testset, batch_size=100,shuffle=True,     num_workers=1)"
   ]
  },
  {
   "cell_type": "code",
   "execution_count": 15,
   "metadata": {
    "collapsed": true
   },
   "outputs": [],
   "source": [
    "classes=('low','medium','high')\n"
   ]
  },
  {
   "cell_type": "code",
   "execution_count": 16,
   "metadata": {
    "collapsed": true
   },
   "outputs": [],
   "source": [
    "# Hyper Parameters\n",
    "sequence_length = 28\n",
    "input_size = 28\n",
    "hidden_size = 128\n",
    "num_layers = 2\n",
    "num_classes = 3\n",
    "batch_size=100\n",
    "num_epochs = 100\n",
    "learning_rate = 0.01\n",
    "\n"
   ]
  },
  {
   "cell_type": "code",
   "execution_count": 17,
   "metadata": {
    "collapsed": true
   },
   "outputs": [],
   "source": [
    "# RNN Model (Many-to-One)\n",
    "class RNN(nn.Module):\n",
    "    def __init__(self, input_size, hidden_size, num_layers, num_classes):\n",
    "        super(RNN, self).__init__()\n",
    "        self.hidden_size = hidden_size\n",
    "        self.num_layers = num_layers\n",
    "        self.lstm = nn.LSTM(input_size, hidden_size, num_layers, batch_first=True)\n",
    "        self.fc = nn.Linear(hidden_size,num_classes)\n",
    "    \n",
    "    def forward(self, x):\n",
    "        # Set initial states \n",
    "        h0 = Variable(torch.zeros(self.num_layers, x.size(0), self.hidden_size)) \n",
    "        c0 = Variable(torch.zeros(self.num_layers, x.size(0), self.hidden_size))\n",
    "        \n",
    "        # Forward propagate RNN\n",
    "        out, _ = self.lstm(x, (h0, c0))  \n",
    "        \n",
    "        # Decode hidden state of last time step\n",
    "        out = self.fc(out[:, -1, :])  \n",
    "        return out\n",
    "\n",
    "rnn = RNN(input_size, hidden_size, num_layers, num_classes)\n",
    "\n",
    "\n"
   ]
  },
  {
   "cell_type": "code",
   "execution_count": 18,
   "metadata": {
    "collapsed": true
   },
   "outputs": [],
   "source": [
    "# Loss and Optimizer\n",
    "criterion = nn.CrossEntropyLoss()\n",
    "optimizer = torch.optim.Adam(rnn.parameters(), lr=learning_rate)\n",
    "\n"
   ]
  },
  {
   "cell_type": "code",
   "execution_count": 19,
   "metadata": {
    "scrolled": true
   },
   "outputs": [
    {
     "name": "stdout",
     "output_type": "stream",
     "text": [
      "Epoch [1/100], Step [1/1], Loss: 1.0967\n",
      "Epoch [1/100], Step [2/1], Loss: 1.3521\n",
      "Epoch [2/100], Step [1/1], Loss: 1.1002\n",
      "Epoch [2/100], Step [2/1], Loss: 1.0894\n",
      "Epoch [3/100], Step [1/1], Loss: 1.1057\n",
      "Epoch [3/100], Step [2/1], Loss: 1.1004\n",
      "Epoch [4/100], Step [1/1], Loss: 1.0931\n",
      "Epoch [4/100], Step [2/1], Loss: 1.1154\n",
      "Epoch [5/100], Step [1/1], Loss: 1.1142\n",
      "Epoch [5/100], Step [2/1], Loss: 1.0876\n",
      "Epoch [6/100], Step [1/1], Loss: 1.0964\n",
      "Epoch [6/100], Step [2/1], Loss: 1.1009\n",
      "Epoch [7/100], Step [1/1], Loss: 1.1005\n",
      "Epoch [7/100], Step [2/1], Loss: 1.0959\n",
      "Epoch [8/100], Step [1/1], Loss: 1.1001\n",
      "Epoch [8/100], Step [2/1], Loss: 1.0875\n",
      "Epoch [9/100], Step [1/1], Loss: 1.0948\n",
      "Epoch [9/100], Step [2/1], Loss: 1.1005\n",
      "Epoch [10/100], Step [1/1], Loss: 1.1004\n",
      "Epoch [10/100], Step [2/1], Loss: 1.0850\n",
      "Epoch [11/100], Step [1/1], Loss: 1.0915\n",
      "Epoch [11/100], Step [2/1], Loss: 1.0956\n",
      "Epoch [12/100], Step [1/1], Loss: 1.0758\n",
      "Epoch [12/100], Step [2/1], Loss: 1.0958\n",
      "Epoch [13/100], Step [1/1], Loss: 1.0901\n",
      "Epoch [13/100], Step [2/1], Loss: 1.1242\n",
      "Epoch [14/100], Step [1/1], Loss: 1.0924\n",
      "Epoch [14/100], Step [2/1], Loss: 1.1058\n",
      "Epoch [15/100], Step [1/1], Loss: 1.0948\n",
      "Epoch [15/100], Step [2/1], Loss: 1.0923\n",
      "Epoch [16/100], Step [1/1], Loss: 1.0922\n",
      "Epoch [16/100], Step [2/1], Loss: 1.0848\n",
      "Epoch [17/100], Step [1/1], Loss: 1.0841\n",
      "Epoch [17/100], Step [2/1], Loss: 1.0981\n",
      "Epoch [18/100], Step [1/1], Loss: 1.0816\n",
      "Epoch [18/100], Step [2/1], Loss: 1.0628\n",
      "Epoch [19/100], Step [1/1], Loss: 1.0645\n",
      "Epoch [19/100], Step [2/1], Loss: 1.0147\n",
      "Epoch [20/100], Step [1/1], Loss: 1.0266\n",
      "Epoch [20/100], Step [2/1], Loss: 1.0282\n",
      "Epoch [21/100], Step [1/1], Loss: 1.2294\n",
      "Epoch [21/100], Step [2/1], Loss: 1.2483\n",
      "Epoch [22/100], Step [1/1], Loss: 1.1515\n",
      "Epoch [22/100], Step [2/1], Loss: 1.1540\n",
      "Epoch [23/100], Step [1/1], Loss: 1.1075\n",
      "Epoch [23/100], Step [2/1], Loss: 1.0780\n",
      "Epoch [24/100], Step [1/1], Loss: 1.0607\n",
      "Epoch [24/100], Step [2/1], Loss: 1.1147\n",
      "Epoch [25/100], Step [1/1], Loss: 1.0698\n",
      "Epoch [25/100], Step [2/1], Loss: 1.0478\n",
      "Epoch [26/100], Step [1/1], Loss: 1.0413\n",
      "Epoch [26/100], Step [2/1], Loss: 1.0798\n",
      "Epoch [27/100], Step [1/1], Loss: 1.0424\n",
      "Epoch [27/100], Step [2/1], Loss: 1.0150\n",
      "Epoch [28/100], Step [1/1], Loss: 1.0870\n",
      "Epoch [28/100], Step [2/1], Loss: 0.9986\n",
      "Epoch [29/100], Step [1/1], Loss: 1.0014\n",
      "Epoch [29/100], Step [2/1], Loss: 1.1099\n",
      "Epoch [30/100], Step [1/1], Loss: 1.0370\n",
      "Epoch [30/100], Step [2/1], Loss: 0.9429\n",
      "Epoch [31/100], Step [1/1], Loss: 0.9952\n",
      "Epoch [31/100], Step [2/1], Loss: 1.0500\n",
      "Epoch [32/100], Step [1/1], Loss: 1.0003\n",
      "Epoch [32/100], Step [2/1], Loss: 1.0660\n",
      "Epoch [33/100], Step [1/1], Loss: 1.0178\n",
      "Epoch [33/100], Step [2/1], Loss: 0.9362\n",
      "Epoch [34/100], Step [1/1], Loss: 1.0339\n",
      "Epoch [34/100], Step [2/1], Loss: 0.9979\n",
      "Epoch [35/100], Step [1/1], Loss: 1.0082\n",
      "Epoch [35/100], Step [2/1], Loss: 1.0377\n",
      "Epoch [36/100], Step [1/1], Loss: 1.0404\n",
      "Epoch [36/100], Step [2/1], Loss: 1.0009\n",
      "Epoch [37/100], Step [1/1], Loss: 0.9879\n",
      "Epoch [37/100], Step [2/1], Loss: 0.9523\n",
      "Epoch [38/100], Step [1/1], Loss: 1.0063\n",
      "Epoch [38/100], Step [2/1], Loss: 0.9311\n",
      "Epoch [39/100], Step [1/1], Loss: 0.9773\n",
      "Epoch [39/100], Step [2/1], Loss: 0.9027\n",
      "Epoch [40/100], Step [1/1], Loss: 0.9540\n",
      "Epoch [40/100], Step [2/1], Loss: 1.1596\n",
      "Epoch [41/100], Step [1/1], Loss: 0.9829\n",
      "Epoch [41/100], Step [2/1], Loss: 1.0255\n",
      "Epoch [42/100], Step [1/1], Loss: 0.9871\n",
      "Epoch [42/100], Step [2/1], Loss: 0.9462\n",
      "Epoch [43/100], Step [1/1], Loss: 0.9854\n",
      "Epoch [43/100], Step [2/1], Loss: 1.0007\n",
      "Epoch [44/100], Step [1/1], Loss: 0.9671\n",
      "Epoch [44/100], Step [2/1], Loss: 0.9259\n",
      "Epoch [45/100], Step [1/1], Loss: 0.9814\n",
      "Epoch [45/100], Step [2/1], Loss: 0.9932\n",
      "Epoch [46/100], Step [1/1], Loss: 0.9371\n",
      "Epoch [46/100], Step [2/1], Loss: 1.0132\n",
      "Epoch [47/100], Step [1/1], Loss: 0.9331\n",
      "Epoch [47/100], Step [2/1], Loss: 1.0199\n",
      "Epoch [48/100], Step [1/1], Loss: 0.9481\n",
      "Epoch [48/100], Step [2/1], Loss: 0.9149\n",
      "Epoch [49/100], Step [1/1], Loss: 0.9297\n",
      "Epoch [49/100], Step [2/1], Loss: 0.8703\n",
      "Epoch [50/100], Step [1/1], Loss: 0.9060\n",
      "Epoch [50/100], Step [2/1], Loss: 0.8805\n",
      "Epoch [51/100], Step [1/1], Loss: 0.8750\n",
      "Epoch [51/100], Step [2/1], Loss: 0.7498\n",
      "Epoch [52/100], Step [1/1], Loss: 1.0660\n",
      "Epoch [52/100], Step [2/1], Loss: 0.8154\n",
      "Epoch [53/100], Step [1/1], Loss: 0.9901\n",
      "Epoch [53/100], Step [2/1], Loss: 0.8436\n",
      "Epoch [54/100], Step [1/1], Loss: 0.8382\n",
      "Epoch [54/100], Step [2/1], Loss: 0.8561\n",
      "Epoch [55/100], Step [1/1], Loss: 0.8090\n",
      "Epoch [55/100], Step [2/1], Loss: 0.8879\n",
      "Epoch [56/100], Step [1/1], Loss: 0.7972\n",
      "Epoch [56/100], Step [2/1], Loss: 0.9452\n",
      "Epoch [57/100], Step [1/1], Loss: 0.8023\n",
      "Epoch [57/100], Step [2/1], Loss: 0.8170\n",
      "Epoch [58/100], Step [1/1], Loss: 0.7755\n",
      "Epoch [58/100], Step [2/1], Loss: 0.9000\n",
      "Epoch [59/100], Step [1/1], Loss: 0.8855\n",
      "Epoch [59/100], Step [2/1], Loss: 0.9122\n",
      "Epoch [60/100], Step [1/1], Loss: 0.8683\n",
      "Epoch [60/100], Step [2/1], Loss: 0.8460\n",
      "Epoch [61/100], Step [1/1], Loss: 0.8675\n",
      "Epoch [61/100], Step [2/1], Loss: 0.8622\n",
      "Epoch [62/100], Step [1/1], Loss: 0.8205\n",
      "Epoch [62/100], Step [2/1], Loss: 0.9082\n",
      "Epoch [63/100], Step [1/1], Loss: 0.8278\n",
      "Epoch [63/100], Step [2/1], Loss: 0.8272\n",
      "Epoch [64/100], Step [1/1], Loss: 0.7539\n",
      "Epoch [64/100], Step [2/1], Loss: 0.8897\n",
      "Epoch [65/100], Step [1/1], Loss: 0.7188\n",
      "Epoch [65/100], Step [2/1], Loss: 0.9213\n",
      "Epoch [66/100], Step [1/1], Loss: 0.7346\n",
      "Epoch [66/100], Step [2/1], Loss: 0.8710\n",
      "Epoch [67/100], Step [1/1], Loss: 0.7824\n",
      "Epoch [67/100], Step [2/1], Loss: 0.7149\n",
      "Epoch [68/100], Step [1/1], Loss: 0.7672\n",
      "Epoch [68/100], Step [2/1], Loss: 0.7570\n",
      "Epoch [69/100], Step [1/1], Loss: 0.8065\n",
      "Epoch [69/100], Step [2/1], Loss: 0.6452\n",
      "Epoch [70/100], Step [1/1], Loss: 0.7322\n",
      "Epoch [70/100], Step [2/1], Loss: 0.8174\n",
      "Epoch [71/100], Step [1/1], Loss: 0.7286\n",
      "Epoch [71/100], Step [2/1], Loss: 0.8789\n",
      "Epoch [72/100], Step [1/1], Loss: 0.7094\n",
      "Epoch [72/100], Step [2/1], Loss: 0.7937\n",
      "Epoch [73/100], Step [1/1], Loss: 0.7686\n",
      "Epoch [73/100], Step [2/1], Loss: 0.7470\n",
      "Epoch [74/100], Step [1/1], Loss: 0.7417\n",
      "Epoch [74/100], Step [2/1], Loss: 0.9748\n",
      "Epoch [75/100], Step [1/1], Loss: 0.7517\n",
      "Epoch [75/100], Step [2/1], Loss: 0.7003\n",
      "Epoch [76/100], Step [1/1], Loss: 0.7122\n",
      "Epoch [76/100], Step [2/1], Loss: 0.7456\n",
      "Epoch [77/100], Step [1/1], Loss: 0.7501\n",
      "Epoch [77/100], Step [2/1], Loss: 0.6477\n",
      "Epoch [78/100], Step [1/1], Loss: 0.6924\n",
      "Epoch [78/100], Step [2/1], Loss: 0.8126\n",
      "Epoch [79/100], Step [1/1], Loss: 0.6669\n",
      "Epoch [79/100], Step [2/1], Loss: 0.6364\n",
      "Epoch [80/100], Step [1/1], Loss: 0.6600\n",
      "Epoch [80/100], Step [2/1], Loss: 0.6191\n",
      "Epoch [81/100], Step [1/1], Loss: 0.6484\n",
      "Epoch [81/100], Step [2/1], Loss: 0.5998\n",
      "Epoch [82/100], Step [1/1], Loss: 0.6290\n",
      "Epoch [82/100], Step [2/1], Loss: 0.6008\n",
      "Epoch [83/100], Step [1/1], Loss: 0.5694\n",
      "Epoch [83/100], Step [2/1], Loss: 0.6710\n",
      "Epoch [84/100], Step [1/1], Loss: 0.6821\n",
      "Epoch [84/100], Step [2/1], Loss: 0.5343\n",
      "Epoch [85/100], Step [1/1], Loss: 0.5781\n",
      "Epoch [85/100], Step [2/1], Loss: 0.5223\n",
      "Epoch [86/100], Step [1/1], Loss: 0.5799\n",
      "Epoch [86/100], Step [2/1], Loss: 0.5629\n",
      "Epoch [87/100], Step [1/1], Loss: 0.5784\n",
      "Epoch [87/100], Step [2/1], Loss: 0.5541\n",
      "Epoch [88/100], Step [1/1], Loss: 0.6033\n",
      "Epoch [88/100], Step [2/1], Loss: 0.6075\n",
      "Epoch [89/100], Step [1/1], Loss: 0.5661\n",
      "Epoch [89/100], Step [2/1], Loss: 0.9508\n",
      "Epoch [90/100], Step [1/1], Loss: 0.8440\n",
      "Epoch [90/100], Step [2/1], Loss: 1.0573\n",
      "Epoch [91/100], Step [1/1], Loss: 1.0618\n",
      "Epoch [91/100], Step [2/1], Loss: 0.6825\n",
      "Epoch [92/100], Step [1/1], Loss: 0.6987\n",
      "Epoch [92/100], Step [2/1], Loss: 0.6114\n",
      "Epoch [93/100], Step [1/1], Loss: 0.8304\n",
      "Epoch [93/100], Step [2/1], Loss: 0.8963\n",
      "Epoch [94/100], Step [1/1], Loss: 0.6702\n",
      "Epoch [94/100], Step [2/1], Loss: 0.7495\n",
      "Epoch [95/100], Step [1/1], Loss: 0.7144\n",
      "Epoch [95/100], Step [2/1], Loss: 0.6030\n",
      "Epoch [96/100], Step [1/1], Loss: 0.6920\n",
      "Epoch [96/100], Step [2/1], Loss: 0.7021\n",
      "Epoch [97/100], Step [1/1], Loss: 0.6962\n",
      "Epoch [97/100], Step [2/1], Loss: 0.4816\n",
      "Epoch [98/100], Step [1/1], Loss: 0.6474\n",
      "Epoch [98/100], Step [2/1], Loss: 0.5629\n",
      "Epoch [99/100], Step [1/1], Loss: 0.6834\n",
      "Epoch [99/100], Step [2/1], Loss: 0.5489\n",
      "Epoch [100/100], Step [1/1], Loss: 0.5981\n",
      "Epoch [100/100], Step [2/1], Loss: 0.5565\n"
     ]
    }
   ],
   "source": [
    "# Train the Model\n",
    "for epoch in range(num_epochs):\n",
    "    for i, (images, labels) in enumerate(trainloader):\n",
    "        labels -= 1\n",
    "        images = Variable(images.view(-1, sequence_length, input_size))\n",
    "        labels = Variable(labels)\n",
    "        \n",
    "        # Forward + Backward + Optimize\n",
    "        optimizer.zero_grad()\n",
    "        outputs = rnn(images)\n",
    "        loss = criterion(outputs, labels)\n",
    "        loss.backward()\n",
    "        optimizer.step()\n",
    "        \n",
    "        if epoch % 1 == 0:\n",
    "            print ('Epoch [%d/%d], Step [%d/%d], Loss: %.4f' \n",
    "                   %(epoch+1, num_epochs, i+1, len(trainset)//batch_size, loss.data[0]))\n",
    "\n"
   ]
  },
  {
   "cell_type": "code",
   "execution_count": 20,
   "metadata": {},
   "outputs": [
    {
     "name": "stdout",
     "output_type": "stream",
     "text": [
      "Test Accuracy of the model on the 15 test images: 26 %\n"
     ]
    }
   ],
   "source": [
    "# Test the Model\n",
    "correct = 0\n",
    "total = 0\n",
    "for images, labels in testloader:\n",
    "    labels -= 1\n",
    "    images = Variable(images.view(-1, sequence_length, input_size))\n",
    "    \n",
    "    \n",
    "    outputs = rnn(images)\n",
    "    _, predicted = torch.max(outputs.data, 1)\n",
    "    total += labels.size(0)\n",
    "    correct += (predicted == labels).sum()\n",
    "\n",
    "print('Test Accuracy of the model on the 15 test images: %d %%' % (100 * correct / total)) \n",
    "\n",
    "# Save the Model\n",
    "torch.save(rnn.state_dict(), 'rnn.pkl')"
   ]
  },
  {
   "cell_type": "code",
   "execution_count": 10,
   "metadata": {},
   "outputs": [
    {
     "data": {
      "text/plain": [
       "torch.Size([15, 3])"
      ]
     },
     "execution_count": 10,
     "metadata": {},
     "output_type": "execute_result"
    }
   ],
   "source": [
    "outputs.shape"
   ]
  },
  {
   "cell_type": "code",
   "execution_count": 11,
   "metadata": {},
   "outputs": [
    {
     "data": {
      "text/plain": [
       "torch.Size([15])"
      ]
     },
     "execution_count": 11,
     "metadata": {},
     "output_type": "execute_result"
    }
   ],
   "source": [
    "labels.shape"
   ]
  },
  {
   "cell_type": "code",
   "execution_count": 12,
   "metadata": {},
   "outputs": [
    {
     "data": {
      "text/plain": [
       "0"
      ]
     },
     "execution_count": 12,
     "metadata": {},
     "output_type": "execute_result"
    }
   ],
   "source": [
    "labels.min()\n"
   ]
  },
  {
   "cell_type": "code",
   "execution_count": 13,
   "metadata": {},
   "outputs": [
    {
     "data": {
      "text/plain": [
       "2"
      ]
     },
     "execution_count": 13,
     "metadata": {},
     "output_type": "execute_result"
    }
   ],
   "source": [
    "labels.max()"
   ]
  },
  {
   "cell_type": "code",
   "execution_count": 14,
   "metadata": {},
   "outputs": [
    {
     "data": {
      "text/plain": [
       "'low'"
      ]
     },
     "execution_count": 14,
     "metadata": {},
     "output_type": "execute_result"
    }
   ],
   "source": [
    "classes[0]"
   ]
  },
  {
   "cell_type": "code",
   "execution_count": 15,
   "metadata": {},
   "outputs": [
    {
     "data": {
      "text/plain": [
       "'high'"
      ]
     },
     "execution_count": 15,
     "metadata": {},
     "output_type": "execute_result"
    }
   ],
   "source": [
    "classes[2]"
   ]
  },
  {
   "cell_type": "code",
   "execution_count": null,
   "metadata": {
    "collapsed": true
   },
   "outputs": [],
   "source": []
  }
 ],
 "metadata": {
  "kernelspec": {
   "display_name": "Python 3",
   "language": "python",
   "name": "python3"
  },
  "language_info": {
   "codemirror_mode": {
    "name": "ipython",
    "version": 3
   },
   "file_extension": ".py",
   "mimetype": "text/x-python",
   "name": "python",
   "nbconvert_exporter": "python",
   "pygments_lexer": "ipython3",
   "version": "3.6.3"
  }
 },
 "nbformat": 4,
 "nbformat_minor": 2
}
